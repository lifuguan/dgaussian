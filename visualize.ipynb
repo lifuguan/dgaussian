{
 "cells": [
  {
   "cell_type": "code",
   "execution_count": 1,
   "metadata": {},
   "outputs": [
    {
     "name": "stderr",
     "output_type": "stream",
     "text": [
      "/home/lihao/miniconda3/envs/splatam/lib/python3.10/site-packages/tqdm/auto.py:21: TqdmWarning: IProgress not found. Please update jupyter and ipywidgets. See https://ipywidgets.readthedocs.io/en/stable/user_install.html\n",
      "  from .autonotebook import tqdm as notebook_tqdm\n"
     ]
    },
    {
     "name": "stdout",
     "output_type": "stream",
     "text": [
      "dict_keys(['optimizer', 'scheduler', 'pose_optimizer', 'pose_scheduler', 'net_coarse', 'feature_net', 'pose_learner'])\n"
     ]
    }
   ],
   "source": [
    "import torch\n",
    "\n",
    "dbarf = torch.load('./model_zoo/dbarf_model_200000.pth',map_location=torch.device('cuda:0'))\n",
    "pixelsplat = torch.load('./model_zoo/re10k.ckpt',map_location=torch.device('cuda:0'))\n",
    "print(dbarf.keys())\n",
    "new_model = {}\n",
    "new_model['feature_net'] = dbarf['feature_net']\n",
    "new_model['pose_learner'] = dbarf['pose_learner']\n",
    "new_model['gaussian'] = pixelsplat['state_dict']\n",
    "torch.save(new_model,'./model_zoo/dgaussian.pth')"
   ]
  },
  {
   "cell_type": "code",
   "execution_count": 3,
   "metadata": {},
   "outputs": [
    {
     "data": {
      "text/plain": [
       "odict_keys(['encoder.backbone.dino.cls_token', 'encoder.backbone.dino.pos_embed', 'encoder.backbone.dino.patch_embed.proj.weight', 'encoder.backbone.dino.patch_embed.proj.bias', 'encoder.backbone.dino.blocks.0.norm1.weight', 'encoder.backbone.dino.blocks.0.norm1.bias', 'encoder.backbone.dino.blocks.0.attn.qkv.weight', 'encoder.backbone.dino.blocks.0.attn.qkv.bias', 'encoder.backbone.dino.blocks.0.attn.proj.weight', 'encoder.backbone.dino.blocks.0.attn.proj.bias', 'encoder.backbone.dino.blocks.0.norm2.weight', 'encoder.backbone.dino.blocks.0.norm2.bias', 'encoder.backbone.dino.blocks.0.mlp.fc1.weight', 'encoder.backbone.dino.blocks.0.mlp.fc1.bias', 'encoder.backbone.dino.blocks.0.mlp.fc2.weight', 'encoder.backbone.dino.blocks.0.mlp.fc2.bias', 'encoder.backbone.dino.blocks.1.norm1.weight', 'encoder.backbone.dino.blocks.1.norm1.bias', 'encoder.backbone.dino.blocks.1.attn.qkv.weight', 'encoder.backbone.dino.blocks.1.attn.qkv.bias', 'encoder.backbone.dino.blocks.1.attn.proj.weight', 'encoder.backbone.dino.blocks.1.attn.proj.bias', 'encoder.backbone.dino.blocks.1.norm2.weight', 'encoder.backbone.dino.blocks.1.norm2.bias', 'encoder.backbone.dino.blocks.1.mlp.fc1.weight', 'encoder.backbone.dino.blocks.1.mlp.fc1.bias', 'encoder.backbone.dino.blocks.1.mlp.fc2.weight', 'encoder.backbone.dino.blocks.1.mlp.fc2.bias', 'encoder.backbone.dino.blocks.2.norm1.weight', 'encoder.backbone.dino.blocks.2.norm1.bias', 'encoder.backbone.dino.blocks.2.attn.qkv.weight', 'encoder.backbone.dino.blocks.2.attn.qkv.bias', 'encoder.backbone.dino.blocks.2.attn.proj.weight', 'encoder.backbone.dino.blocks.2.attn.proj.bias', 'encoder.backbone.dino.blocks.2.norm2.weight', 'encoder.backbone.dino.blocks.2.norm2.bias', 'encoder.backbone.dino.blocks.2.mlp.fc1.weight', 'encoder.backbone.dino.blocks.2.mlp.fc1.bias', 'encoder.backbone.dino.blocks.2.mlp.fc2.weight', 'encoder.backbone.dino.blocks.2.mlp.fc2.bias', 'encoder.backbone.dino.blocks.3.norm1.weight', 'encoder.backbone.dino.blocks.3.norm1.bias', 'encoder.backbone.dino.blocks.3.attn.qkv.weight', 'encoder.backbone.dino.blocks.3.attn.qkv.bias', 'encoder.backbone.dino.blocks.3.attn.proj.weight', 'encoder.backbone.dino.blocks.3.attn.proj.bias', 'encoder.backbone.dino.blocks.3.norm2.weight', 'encoder.backbone.dino.blocks.3.norm2.bias', 'encoder.backbone.dino.blocks.3.mlp.fc1.weight', 'encoder.backbone.dino.blocks.3.mlp.fc1.bias', 'encoder.backbone.dino.blocks.3.mlp.fc2.weight', 'encoder.backbone.dino.blocks.3.mlp.fc2.bias', 'encoder.backbone.dino.blocks.4.norm1.weight', 'encoder.backbone.dino.blocks.4.norm1.bias', 'encoder.backbone.dino.blocks.4.attn.qkv.weight', 'encoder.backbone.dino.blocks.4.attn.qkv.bias', 'encoder.backbone.dino.blocks.4.attn.proj.weight', 'encoder.backbone.dino.blocks.4.attn.proj.bias', 'encoder.backbone.dino.blocks.4.norm2.weight', 'encoder.backbone.dino.blocks.4.norm2.bias', 'encoder.backbone.dino.blocks.4.mlp.fc1.weight', 'encoder.backbone.dino.blocks.4.mlp.fc1.bias', 'encoder.backbone.dino.blocks.4.mlp.fc2.weight', 'encoder.backbone.dino.blocks.4.mlp.fc2.bias', 'encoder.backbone.dino.blocks.5.norm1.weight', 'encoder.backbone.dino.blocks.5.norm1.bias', 'encoder.backbone.dino.blocks.5.attn.qkv.weight', 'encoder.backbone.dino.blocks.5.attn.qkv.bias', 'encoder.backbone.dino.blocks.5.attn.proj.weight', 'encoder.backbone.dino.blocks.5.attn.proj.bias', 'encoder.backbone.dino.blocks.5.norm2.weight', 'encoder.backbone.dino.blocks.5.norm2.bias', 'encoder.backbone.dino.blocks.5.mlp.fc1.weight', 'encoder.backbone.dino.blocks.5.mlp.fc1.bias', 'encoder.backbone.dino.blocks.5.mlp.fc2.weight', 'encoder.backbone.dino.blocks.5.mlp.fc2.bias', 'encoder.backbone.dino.blocks.6.norm1.weight', 'encoder.backbone.dino.blocks.6.norm1.bias', 'encoder.backbone.dino.blocks.6.attn.qkv.weight', 'encoder.backbone.dino.blocks.6.attn.qkv.bias', 'encoder.backbone.dino.blocks.6.attn.proj.weight', 'encoder.backbone.dino.blocks.6.attn.proj.bias', 'encoder.backbone.dino.blocks.6.norm2.weight', 'encoder.backbone.dino.blocks.6.norm2.bias', 'encoder.backbone.dino.blocks.6.mlp.fc1.weight', 'encoder.backbone.dino.blocks.6.mlp.fc1.bias', 'encoder.backbone.dino.blocks.6.mlp.fc2.weight', 'encoder.backbone.dino.blocks.6.mlp.fc2.bias', 'encoder.backbone.dino.blocks.7.norm1.weight', 'encoder.backbone.dino.blocks.7.norm1.bias', 'encoder.backbone.dino.blocks.7.attn.qkv.weight', 'encoder.backbone.dino.blocks.7.attn.qkv.bias', 'encoder.backbone.dino.blocks.7.attn.proj.weight', 'encoder.backbone.dino.blocks.7.attn.proj.bias', 'encoder.backbone.dino.blocks.7.norm2.weight', 'encoder.backbone.dino.blocks.7.norm2.bias', 'encoder.backbone.dino.blocks.7.mlp.fc1.weight', 'encoder.backbone.dino.blocks.7.mlp.fc1.bias', 'encoder.backbone.dino.blocks.7.mlp.fc2.weight', 'encoder.backbone.dino.blocks.7.mlp.fc2.bias', 'encoder.backbone.dino.blocks.8.norm1.weight', 'encoder.backbone.dino.blocks.8.norm1.bias', 'encoder.backbone.dino.blocks.8.attn.qkv.weight', 'encoder.backbone.dino.blocks.8.attn.qkv.bias', 'encoder.backbone.dino.blocks.8.attn.proj.weight', 'encoder.backbone.dino.blocks.8.attn.proj.bias', 'encoder.backbone.dino.blocks.8.norm2.weight', 'encoder.backbone.dino.blocks.8.norm2.bias', 'encoder.backbone.dino.blocks.8.mlp.fc1.weight', 'encoder.backbone.dino.blocks.8.mlp.fc1.bias', 'encoder.backbone.dino.blocks.8.mlp.fc2.weight', 'encoder.backbone.dino.blocks.8.mlp.fc2.bias', 'encoder.backbone.dino.blocks.9.norm1.weight', 'encoder.backbone.dino.blocks.9.norm1.bias', 'encoder.backbone.dino.blocks.9.attn.qkv.weight', 'encoder.backbone.dino.blocks.9.attn.qkv.bias', 'encoder.backbone.dino.blocks.9.attn.proj.weight', 'encoder.backbone.dino.blocks.9.attn.proj.bias', 'encoder.backbone.dino.blocks.9.norm2.weight', 'encoder.backbone.dino.blocks.9.norm2.bias', 'encoder.backbone.dino.blocks.9.mlp.fc1.weight', 'encoder.backbone.dino.blocks.9.mlp.fc1.bias', 'encoder.backbone.dino.blocks.9.mlp.fc2.weight', 'encoder.backbone.dino.blocks.9.mlp.fc2.bias', 'encoder.backbone.dino.blocks.10.norm1.weight', 'encoder.backbone.dino.blocks.10.norm1.bias', 'encoder.backbone.dino.blocks.10.attn.qkv.weight', 'encoder.backbone.dino.blocks.10.attn.qkv.bias', 'encoder.backbone.dino.blocks.10.attn.proj.weight', 'encoder.backbone.dino.blocks.10.attn.proj.bias', 'encoder.backbone.dino.blocks.10.norm2.weight', 'encoder.backbone.dino.blocks.10.norm2.bias', 'encoder.backbone.dino.blocks.10.mlp.fc1.weight', 'encoder.backbone.dino.blocks.10.mlp.fc1.bias', 'encoder.backbone.dino.blocks.10.mlp.fc2.weight', 'encoder.backbone.dino.blocks.10.mlp.fc2.bias', 'encoder.backbone.dino.blocks.11.norm1.weight', 'encoder.backbone.dino.blocks.11.norm1.bias', 'encoder.backbone.dino.blocks.11.attn.qkv.weight', 'encoder.backbone.dino.blocks.11.attn.qkv.bias', 'encoder.backbone.dino.blocks.11.attn.proj.weight', 'encoder.backbone.dino.blocks.11.attn.proj.bias', 'encoder.backbone.dino.blocks.11.norm2.weight', 'encoder.backbone.dino.blocks.11.norm2.bias', 'encoder.backbone.dino.blocks.11.mlp.fc1.weight', 'encoder.backbone.dino.blocks.11.mlp.fc1.bias', 'encoder.backbone.dino.blocks.11.mlp.fc2.weight', 'encoder.backbone.dino.blocks.11.mlp.fc2.bias', 'encoder.backbone.dino.norm.weight', 'encoder.backbone.dino.norm.bias', 'encoder.backbone.resnet_backbone.model.conv1.weight', 'encoder.backbone.resnet_backbone.model.bn1.weight', 'encoder.backbone.resnet_backbone.model.bn1.bias', 'encoder.backbone.resnet_backbone.model.bn1.running_mean', 'encoder.backbone.resnet_backbone.model.bn1.running_var', 'encoder.backbone.resnet_backbone.model.bn1.num_batches_tracked', 'encoder.backbone.resnet_backbone.model.layer1.0.conv1.weight', 'encoder.backbone.resnet_backbone.model.layer1.0.bn1.weight', 'encoder.backbone.resnet_backbone.model.layer1.0.bn1.bias', 'encoder.backbone.resnet_backbone.model.layer1.0.bn1.running_mean', 'encoder.backbone.resnet_backbone.model.layer1.0.bn1.running_var', 'encoder.backbone.resnet_backbone.model.layer1.0.bn1.num_batches_tracked', 'encoder.backbone.resnet_backbone.model.layer1.0.conv2.weight', 'encoder.backbone.resnet_backbone.model.layer1.0.bn2.weight', 'encoder.backbone.resnet_backbone.model.layer1.0.bn2.bias', 'encoder.backbone.resnet_backbone.model.layer1.0.bn2.running_mean', 'encoder.backbone.resnet_backbone.model.layer1.0.bn2.running_var', 'encoder.backbone.resnet_backbone.model.layer1.0.bn2.num_batches_tracked', 'encoder.backbone.resnet_backbone.model.layer1.0.conv3.weight', 'encoder.backbone.resnet_backbone.model.layer1.0.bn3.weight', 'encoder.backbone.resnet_backbone.model.layer1.0.bn3.bias', 'encoder.backbone.resnet_backbone.model.layer1.0.bn3.running_mean', 'encoder.backbone.resnet_backbone.model.layer1.0.bn3.running_var', 'encoder.backbone.resnet_backbone.model.layer1.0.bn3.num_batches_tracked', 'encoder.backbone.resnet_backbone.model.layer1.0.downsample.0.weight', 'encoder.backbone.resnet_backbone.model.layer1.0.downsample.1.weight', 'encoder.backbone.resnet_backbone.model.layer1.0.downsample.1.bias', 'encoder.backbone.resnet_backbone.model.layer1.0.downsample.1.running_mean', 'encoder.backbone.resnet_backbone.model.layer1.0.downsample.1.running_var', 'encoder.backbone.resnet_backbone.model.layer1.0.downsample.1.num_batches_tracked', 'encoder.backbone.resnet_backbone.model.layer1.1.conv1.weight', 'encoder.backbone.resnet_backbone.model.layer1.1.bn1.weight', 'encoder.backbone.resnet_backbone.model.layer1.1.bn1.bias', 'encoder.backbone.resnet_backbone.model.layer1.1.bn1.running_mean', 'encoder.backbone.resnet_backbone.model.layer1.1.bn1.running_var', 'encoder.backbone.resnet_backbone.model.layer1.1.bn1.num_batches_tracked', 'encoder.backbone.resnet_backbone.model.layer1.1.conv2.weight', 'encoder.backbone.resnet_backbone.model.layer1.1.bn2.weight', 'encoder.backbone.resnet_backbone.model.layer1.1.bn2.bias', 'encoder.backbone.resnet_backbone.model.layer1.1.bn2.running_mean', 'encoder.backbone.resnet_backbone.model.layer1.1.bn2.running_var', 'encoder.backbone.resnet_backbone.model.layer1.1.bn2.num_batches_tracked', 'encoder.backbone.resnet_backbone.model.layer1.1.conv3.weight', 'encoder.backbone.resnet_backbone.model.layer1.1.bn3.weight', 'encoder.backbone.resnet_backbone.model.layer1.1.bn3.bias', 'encoder.backbone.resnet_backbone.model.layer1.1.bn3.running_mean', 'encoder.backbone.resnet_backbone.model.layer1.1.bn3.running_var', 'encoder.backbone.resnet_backbone.model.layer1.1.bn3.num_batches_tracked', 'encoder.backbone.resnet_backbone.model.layer1.2.conv1.weight', 'encoder.backbone.resnet_backbone.model.layer1.2.bn1.weight', 'encoder.backbone.resnet_backbone.model.layer1.2.bn1.bias', 'encoder.backbone.resnet_backbone.model.layer1.2.bn1.running_mean', 'encoder.backbone.resnet_backbone.model.layer1.2.bn1.running_var', 'encoder.backbone.resnet_backbone.model.layer1.2.bn1.num_batches_tracked', 'encoder.backbone.resnet_backbone.model.layer1.2.conv2.weight', 'encoder.backbone.resnet_backbone.model.layer1.2.bn2.weight', 'encoder.backbone.resnet_backbone.model.layer1.2.bn2.bias', 'encoder.backbone.resnet_backbone.model.layer1.2.bn2.running_mean', 'encoder.backbone.resnet_backbone.model.layer1.2.bn2.running_var', 'encoder.backbone.resnet_backbone.model.layer1.2.bn2.num_batches_tracked', 'encoder.backbone.resnet_backbone.model.layer1.2.conv3.weight', 'encoder.backbone.resnet_backbone.model.layer1.2.bn3.weight', 'encoder.backbone.resnet_backbone.model.layer1.2.bn3.bias', 'encoder.backbone.resnet_backbone.model.layer1.2.bn3.running_mean', 'encoder.backbone.resnet_backbone.model.layer1.2.bn3.running_var', 'encoder.backbone.resnet_backbone.model.layer1.2.bn3.num_batches_tracked', 'encoder.backbone.resnet_backbone.model.layer2.0.conv1.weight', 'encoder.backbone.resnet_backbone.model.layer2.0.bn1.weight', 'encoder.backbone.resnet_backbone.model.layer2.0.bn1.bias', 'encoder.backbone.resnet_backbone.model.layer2.0.bn1.running_mean', 'encoder.backbone.resnet_backbone.model.layer2.0.bn1.running_var', 'encoder.backbone.resnet_backbone.model.layer2.0.bn1.num_batches_tracked', 'encoder.backbone.resnet_backbone.model.layer2.0.conv2.weight', 'encoder.backbone.resnet_backbone.model.layer2.0.bn2.weight', 'encoder.backbone.resnet_backbone.model.layer2.0.bn2.bias', 'encoder.backbone.resnet_backbone.model.layer2.0.bn2.running_mean', 'encoder.backbone.resnet_backbone.model.layer2.0.bn2.running_var', 'encoder.backbone.resnet_backbone.model.layer2.0.bn2.num_batches_tracked', 'encoder.backbone.resnet_backbone.model.layer2.0.conv3.weight', 'encoder.backbone.resnet_backbone.model.layer2.0.bn3.weight', 'encoder.backbone.resnet_backbone.model.layer2.0.bn3.bias', 'encoder.backbone.resnet_backbone.model.layer2.0.bn3.running_mean', 'encoder.backbone.resnet_backbone.model.layer2.0.bn3.running_var', 'encoder.backbone.resnet_backbone.model.layer2.0.bn3.num_batches_tracked', 'encoder.backbone.resnet_backbone.model.layer2.0.downsample.0.weight', 'encoder.backbone.resnet_backbone.model.layer2.0.downsample.1.weight', 'encoder.backbone.resnet_backbone.model.layer2.0.downsample.1.bias', 'encoder.backbone.resnet_backbone.model.layer2.0.downsample.1.running_mean', 'encoder.backbone.resnet_backbone.model.layer2.0.downsample.1.running_var', 'encoder.backbone.resnet_backbone.model.layer2.0.downsample.1.num_batches_tracked', 'encoder.backbone.resnet_backbone.model.layer2.1.conv1.weight', 'encoder.backbone.resnet_backbone.model.layer2.1.bn1.weight', 'encoder.backbone.resnet_backbone.model.layer2.1.bn1.bias', 'encoder.backbone.resnet_backbone.model.layer2.1.bn1.running_mean', 'encoder.backbone.resnet_backbone.model.layer2.1.bn1.running_var', 'encoder.backbone.resnet_backbone.model.layer2.1.bn1.num_batches_tracked', 'encoder.backbone.resnet_backbone.model.layer2.1.conv2.weight', 'encoder.backbone.resnet_backbone.model.layer2.1.bn2.weight', 'encoder.backbone.resnet_backbone.model.layer2.1.bn2.bias', 'encoder.backbone.resnet_backbone.model.layer2.1.bn2.running_mean', 'encoder.backbone.resnet_backbone.model.layer2.1.bn2.running_var', 'encoder.backbone.resnet_backbone.model.layer2.1.bn2.num_batches_tracked', 'encoder.backbone.resnet_backbone.model.layer2.1.conv3.weight', 'encoder.backbone.resnet_backbone.model.layer2.1.bn3.weight', 'encoder.backbone.resnet_backbone.model.layer2.1.bn3.bias', 'encoder.backbone.resnet_backbone.model.layer2.1.bn3.running_mean', 'encoder.backbone.resnet_backbone.model.layer2.1.bn3.running_var', 'encoder.backbone.resnet_backbone.model.layer2.1.bn3.num_batches_tracked', 'encoder.backbone.resnet_backbone.model.layer2.2.conv1.weight', 'encoder.backbone.resnet_backbone.model.layer2.2.bn1.weight', 'encoder.backbone.resnet_backbone.model.layer2.2.bn1.bias', 'encoder.backbone.resnet_backbone.model.layer2.2.bn1.running_mean', 'encoder.backbone.resnet_backbone.model.layer2.2.bn1.running_var', 'encoder.backbone.resnet_backbone.model.layer2.2.bn1.num_batches_tracked', 'encoder.backbone.resnet_backbone.model.layer2.2.conv2.weight', 'encoder.backbone.resnet_backbone.model.layer2.2.bn2.weight', 'encoder.backbone.resnet_backbone.model.layer2.2.bn2.bias', 'encoder.backbone.resnet_backbone.model.layer2.2.bn2.running_mean', 'encoder.backbone.resnet_backbone.model.layer2.2.bn2.running_var', 'encoder.backbone.resnet_backbone.model.layer2.2.bn2.num_batches_tracked', 'encoder.backbone.resnet_backbone.model.layer2.2.conv3.weight', 'encoder.backbone.resnet_backbone.model.layer2.2.bn3.weight', 'encoder.backbone.resnet_backbone.model.layer2.2.bn3.bias', 'encoder.backbone.resnet_backbone.model.layer2.2.bn3.running_mean', 'encoder.backbone.resnet_backbone.model.layer2.2.bn3.running_var', 'encoder.backbone.resnet_backbone.model.layer2.2.bn3.num_batches_tracked', 'encoder.backbone.resnet_backbone.model.layer2.3.conv1.weight', 'encoder.backbone.resnet_backbone.model.layer2.3.bn1.weight', 'encoder.backbone.resnet_backbone.model.layer2.3.bn1.bias', 'encoder.backbone.resnet_backbone.model.layer2.3.bn1.running_mean', 'encoder.backbone.resnet_backbone.model.layer2.3.bn1.running_var', 'encoder.backbone.resnet_backbone.model.layer2.3.bn1.num_batches_tracked', 'encoder.backbone.resnet_backbone.model.layer2.3.conv2.weight', 'encoder.backbone.resnet_backbone.model.layer2.3.bn2.weight', 'encoder.backbone.resnet_backbone.model.layer2.3.bn2.bias', 'encoder.backbone.resnet_backbone.model.layer2.3.bn2.running_mean', 'encoder.backbone.resnet_backbone.model.layer2.3.bn2.running_var', 'encoder.backbone.resnet_backbone.model.layer2.3.bn2.num_batches_tracked', 'encoder.backbone.resnet_backbone.model.layer2.3.conv3.weight', 'encoder.backbone.resnet_backbone.model.layer2.3.bn3.weight', 'encoder.backbone.resnet_backbone.model.layer2.3.bn3.bias', 'encoder.backbone.resnet_backbone.model.layer2.3.bn3.running_mean', 'encoder.backbone.resnet_backbone.model.layer2.3.bn3.running_var', 'encoder.backbone.resnet_backbone.model.layer2.3.bn3.num_batches_tracked', 'encoder.backbone.resnet_backbone.model.layer3.0.conv1.weight', 'encoder.backbone.resnet_backbone.model.layer3.0.bn1.weight', 'encoder.backbone.resnet_backbone.model.layer3.0.bn1.bias', 'encoder.backbone.resnet_backbone.model.layer3.0.bn1.running_mean', 'encoder.backbone.resnet_backbone.model.layer3.0.bn1.running_var', 'encoder.backbone.resnet_backbone.model.layer3.0.bn1.num_batches_tracked', 'encoder.backbone.resnet_backbone.model.layer3.0.conv2.weight', 'encoder.backbone.resnet_backbone.model.layer3.0.bn2.weight', 'encoder.backbone.resnet_backbone.model.layer3.0.bn2.bias', 'encoder.backbone.resnet_backbone.model.layer3.0.bn2.running_mean', 'encoder.backbone.resnet_backbone.model.layer3.0.bn2.running_var', 'encoder.backbone.resnet_backbone.model.layer3.0.bn2.num_batches_tracked', 'encoder.backbone.resnet_backbone.model.layer3.0.conv3.weight', 'encoder.backbone.resnet_backbone.model.layer3.0.bn3.weight', 'encoder.backbone.resnet_backbone.model.layer3.0.bn3.bias', 'encoder.backbone.resnet_backbone.model.layer3.0.bn3.running_mean', 'encoder.backbone.resnet_backbone.model.layer3.0.bn3.running_var', 'encoder.backbone.resnet_backbone.model.layer3.0.bn3.num_batches_tracked', 'encoder.backbone.resnet_backbone.model.layer3.0.downsample.0.weight', 'encoder.backbone.resnet_backbone.model.layer3.0.downsample.1.weight', 'encoder.backbone.resnet_backbone.model.layer3.0.downsample.1.bias', 'encoder.backbone.resnet_backbone.model.layer3.0.downsample.1.running_mean', 'encoder.backbone.resnet_backbone.model.layer3.0.downsample.1.running_var', 'encoder.backbone.resnet_backbone.model.layer3.0.downsample.1.num_batches_tracked', 'encoder.backbone.resnet_backbone.model.layer3.1.conv1.weight', 'encoder.backbone.resnet_backbone.model.layer3.1.bn1.weight', 'encoder.backbone.resnet_backbone.model.layer3.1.bn1.bias', 'encoder.backbone.resnet_backbone.model.layer3.1.bn1.running_mean', 'encoder.backbone.resnet_backbone.model.layer3.1.bn1.running_var', 'encoder.backbone.resnet_backbone.model.layer3.1.bn1.num_batches_tracked', 'encoder.backbone.resnet_backbone.model.layer3.1.conv2.weight', 'encoder.backbone.resnet_backbone.model.layer3.1.bn2.weight', 'encoder.backbone.resnet_backbone.model.layer3.1.bn2.bias', 'encoder.backbone.resnet_backbone.model.layer3.1.bn2.running_mean', 'encoder.backbone.resnet_backbone.model.layer3.1.bn2.running_var', 'encoder.backbone.resnet_backbone.model.layer3.1.bn2.num_batches_tracked', 'encoder.backbone.resnet_backbone.model.layer3.1.conv3.weight', 'encoder.backbone.resnet_backbone.model.layer3.1.bn3.weight', 'encoder.backbone.resnet_backbone.model.layer3.1.bn3.bias', 'encoder.backbone.resnet_backbone.model.layer3.1.bn3.running_mean', 'encoder.backbone.resnet_backbone.model.layer3.1.bn3.running_var', 'encoder.backbone.resnet_backbone.model.layer3.1.bn3.num_batches_tracked', 'encoder.backbone.resnet_backbone.model.layer3.2.conv1.weight', 'encoder.backbone.resnet_backbone.model.layer3.2.bn1.weight', 'encoder.backbone.resnet_backbone.model.layer3.2.bn1.bias', 'encoder.backbone.resnet_backbone.model.layer3.2.bn1.running_mean', 'encoder.backbone.resnet_backbone.model.layer3.2.bn1.running_var', 'encoder.backbone.resnet_backbone.model.layer3.2.bn1.num_batches_tracked', 'encoder.backbone.resnet_backbone.model.layer3.2.conv2.weight', 'encoder.backbone.resnet_backbone.model.layer3.2.bn2.weight', 'encoder.backbone.resnet_backbone.model.layer3.2.bn2.bias', 'encoder.backbone.resnet_backbone.model.layer3.2.bn2.running_mean', 'encoder.backbone.resnet_backbone.model.layer3.2.bn2.running_var', 'encoder.backbone.resnet_backbone.model.layer3.2.bn2.num_batches_tracked', 'encoder.backbone.resnet_backbone.model.layer3.2.conv3.weight', 'encoder.backbone.resnet_backbone.model.layer3.2.bn3.weight', 'encoder.backbone.resnet_backbone.model.layer3.2.bn3.bias', 'encoder.backbone.resnet_backbone.model.layer3.2.bn3.running_mean', 'encoder.backbone.resnet_backbone.model.layer3.2.bn3.running_var', 'encoder.backbone.resnet_backbone.model.layer3.2.bn3.num_batches_tracked', 'encoder.backbone.resnet_backbone.model.layer3.3.conv1.weight', 'encoder.backbone.resnet_backbone.model.layer3.3.bn1.weight', 'encoder.backbone.resnet_backbone.model.layer3.3.bn1.bias', 'encoder.backbone.resnet_backbone.model.layer3.3.bn1.running_mean', 'encoder.backbone.resnet_backbone.model.layer3.3.bn1.running_var', 'encoder.backbone.resnet_backbone.model.layer3.3.bn1.num_batches_tracked', 'encoder.backbone.resnet_backbone.model.layer3.3.conv2.weight', 'encoder.backbone.resnet_backbone.model.layer3.3.bn2.weight', 'encoder.backbone.resnet_backbone.model.layer3.3.bn2.bias', 'encoder.backbone.resnet_backbone.model.layer3.3.bn2.running_mean', 'encoder.backbone.resnet_backbone.model.layer3.3.bn2.running_var', 'encoder.backbone.resnet_backbone.model.layer3.3.bn2.num_batches_tracked', 'encoder.backbone.resnet_backbone.model.layer3.3.conv3.weight', 'encoder.backbone.resnet_backbone.model.layer3.3.bn3.weight', 'encoder.backbone.resnet_backbone.model.layer3.3.bn3.bias', 'encoder.backbone.resnet_backbone.model.layer3.3.bn3.running_mean', 'encoder.backbone.resnet_backbone.model.layer3.3.bn3.running_var', 'encoder.backbone.resnet_backbone.model.layer3.3.bn3.num_batches_tracked', 'encoder.backbone.resnet_backbone.model.layer3.4.conv1.weight', 'encoder.backbone.resnet_backbone.model.layer3.4.bn1.weight', 'encoder.backbone.resnet_backbone.model.layer3.4.bn1.bias', 'encoder.backbone.resnet_backbone.model.layer3.4.bn1.running_mean', 'encoder.backbone.resnet_backbone.model.layer3.4.bn1.running_var', 'encoder.backbone.resnet_backbone.model.layer3.4.bn1.num_batches_tracked', 'encoder.backbone.resnet_backbone.model.layer3.4.conv2.weight', 'encoder.backbone.resnet_backbone.model.layer3.4.bn2.weight', 'encoder.backbone.resnet_backbone.model.layer3.4.bn2.bias', 'encoder.backbone.resnet_backbone.model.layer3.4.bn2.running_mean', 'encoder.backbone.resnet_backbone.model.layer3.4.bn2.running_var', 'encoder.backbone.resnet_backbone.model.layer3.4.bn2.num_batches_tracked', 'encoder.backbone.resnet_backbone.model.layer3.4.conv3.weight', 'encoder.backbone.resnet_backbone.model.layer3.4.bn3.weight', 'encoder.backbone.resnet_backbone.model.layer3.4.bn3.bias', 'encoder.backbone.resnet_backbone.model.layer3.4.bn3.running_mean', 'encoder.backbone.resnet_backbone.model.layer3.4.bn3.running_var', 'encoder.backbone.resnet_backbone.model.layer3.4.bn3.num_batches_tracked', 'encoder.backbone.resnet_backbone.model.layer3.5.conv1.weight', 'encoder.backbone.resnet_backbone.model.layer3.5.bn1.weight', 'encoder.backbone.resnet_backbone.model.layer3.5.bn1.bias', 'encoder.backbone.resnet_backbone.model.layer3.5.bn1.running_mean', 'encoder.backbone.resnet_backbone.model.layer3.5.bn1.running_var', 'encoder.backbone.resnet_backbone.model.layer3.5.bn1.num_batches_tracked', 'encoder.backbone.resnet_backbone.model.layer3.5.conv2.weight', 'encoder.backbone.resnet_backbone.model.layer3.5.bn2.weight', 'encoder.backbone.resnet_backbone.model.layer3.5.bn2.bias', 'encoder.backbone.resnet_backbone.model.layer3.5.bn2.running_mean', 'encoder.backbone.resnet_backbone.model.layer3.5.bn2.running_var', 'encoder.backbone.resnet_backbone.model.layer3.5.bn2.num_batches_tracked', 'encoder.backbone.resnet_backbone.model.layer3.5.conv3.weight', 'encoder.backbone.resnet_backbone.model.layer3.5.bn3.weight', 'encoder.backbone.resnet_backbone.model.layer3.5.bn3.bias', 'encoder.backbone.resnet_backbone.model.layer3.5.bn3.running_mean', 'encoder.backbone.resnet_backbone.model.layer3.5.bn3.running_var', 'encoder.backbone.resnet_backbone.model.layer3.5.bn3.num_batches_tracked', 'encoder.backbone.resnet_backbone.model.layer4.0.conv1.weight', 'encoder.backbone.resnet_backbone.model.layer4.0.bn1.weight', 'encoder.backbone.resnet_backbone.model.layer4.0.bn1.bias', 'encoder.backbone.resnet_backbone.model.layer4.0.bn1.running_mean', 'encoder.backbone.resnet_backbone.model.layer4.0.bn1.running_var', 'encoder.backbone.resnet_backbone.model.layer4.0.bn1.num_batches_tracked', 'encoder.backbone.resnet_backbone.model.layer4.0.conv2.weight', 'encoder.backbone.resnet_backbone.model.layer4.0.bn2.weight', 'encoder.backbone.resnet_backbone.model.layer4.0.bn2.bias', 'encoder.backbone.resnet_backbone.model.layer4.0.bn2.running_mean', 'encoder.backbone.resnet_backbone.model.layer4.0.bn2.running_var', 'encoder.backbone.resnet_backbone.model.layer4.0.bn2.num_batches_tracked', 'encoder.backbone.resnet_backbone.model.layer4.0.conv3.weight', 'encoder.backbone.resnet_backbone.model.layer4.0.bn3.weight', 'encoder.backbone.resnet_backbone.model.layer4.0.bn3.bias', 'encoder.backbone.resnet_backbone.model.layer4.0.bn3.running_mean', 'encoder.backbone.resnet_backbone.model.layer4.0.bn3.running_var', 'encoder.backbone.resnet_backbone.model.layer4.0.bn3.num_batches_tracked', 'encoder.backbone.resnet_backbone.model.layer4.0.downsample.0.weight', 'encoder.backbone.resnet_backbone.model.layer4.0.downsample.1.weight', 'encoder.backbone.resnet_backbone.model.layer4.0.downsample.1.bias', 'encoder.backbone.resnet_backbone.model.layer4.0.downsample.1.running_mean', 'encoder.backbone.resnet_backbone.model.layer4.0.downsample.1.running_var', 'encoder.backbone.resnet_backbone.model.layer4.0.downsample.1.num_batches_tracked', 'encoder.backbone.resnet_backbone.model.layer4.1.conv1.weight', 'encoder.backbone.resnet_backbone.model.layer4.1.bn1.weight', 'encoder.backbone.resnet_backbone.model.layer4.1.bn1.bias', 'encoder.backbone.resnet_backbone.model.layer4.1.bn1.running_mean', 'encoder.backbone.resnet_backbone.model.layer4.1.bn1.running_var', 'encoder.backbone.resnet_backbone.model.layer4.1.bn1.num_batches_tracked', 'encoder.backbone.resnet_backbone.model.layer4.1.conv2.weight', 'encoder.backbone.resnet_backbone.model.layer4.1.bn2.weight', 'encoder.backbone.resnet_backbone.model.layer4.1.bn2.bias', 'encoder.backbone.resnet_backbone.model.layer4.1.bn2.running_mean', 'encoder.backbone.resnet_backbone.model.layer4.1.bn2.running_var', 'encoder.backbone.resnet_backbone.model.layer4.1.bn2.num_batches_tracked', 'encoder.backbone.resnet_backbone.model.layer4.1.conv3.weight', 'encoder.backbone.resnet_backbone.model.layer4.1.bn3.weight', 'encoder.backbone.resnet_backbone.model.layer4.1.bn3.bias', 'encoder.backbone.resnet_backbone.model.layer4.1.bn3.running_mean', 'encoder.backbone.resnet_backbone.model.layer4.1.bn3.running_var', 'encoder.backbone.resnet_backbone.model.layer4.1.bn3.num_batches_tracked', 'encoder.backbone.resnet_backbone.model.layer4.2.conv1.weight', 'encoder.backbone.resnet_backbone.model.layer4.2.bn1.weight', 'encoder.backbone.resnet_backbone.model.layer4.2.bn1.bias', 'encoder.backbone.resnet_backbone.model.layer4.2.bn1.running_mean', 'encoder.backbone.resnet_backbone.model.layer4.2.bn1.running_var', 'encoder.backbone.resnet_backbone.model.layer4.2.bn1.num_batches_tracked', 'encoder.backbone.resnet_backbone.model.layer4.2.conv2.weight', 'encoder.backbone.resnet_backbone.model.layer4.2.bn2.weight', 'encoder.backbone.resnet_backbone.model.layer4.2.bn2.bias', 'encoder.backbone.resnet_backbone.model.layer4.2.bn2.running_mean', 'encoder.backbone.resnet_backbone.model.layer4.2.bn2.running_var', 'encoder.backbone.resnet_backbone.model.layer4.2.bn2.num_batches_tracked', 'encoder.backbone.resnet_backbone.model.layer4.2.conv3.weight', 'encoder.backbone.resnet_backbone.model.layer4.2.bn3.weight', 'encoder.backbone.resnet_backbone.model.layer4.2.bn3.bias', 'encoder.backbone.resnet_backbone.model.layer4.2.bn3.running_mean', 'encoder.backbone.resnet_backbone.model.layer4.2.bn3.running_var', 'encoder.backbone.resnet_backbone.model.layer4.2.bn3.num_batches_tracked', 'encoder.backbone.resnet_backbone.projections.layer1.weight', 'encoder.backbone.resnet_backbone.projections.layer1.bias', 'encoder.backbone.resnet_backbone.projections.layer2.weight', 'encoder.backbone.resnet_backbone.projections.layer2.bias', 'encoder.backbone.resnet_backbone.projections.layer3.weight', 'encoder.backbone.resnet_backbone.projections.layer3.bias', 'encoder.backbone.resnet_backbone.projections.layer0.weight', 'encoder.backbone.resnet_backbone.projections.layer0.bias', 'encoder.backbone.global_token_mlp.0.weight', 'encoder.backbone.global_token_mlp.0.bias', 'encoder.backbone.global_token_mlp.2.weight', 'encoder.backbone.global_token_mlp.2.bias', 'encoder.backbone.local_token_mlp.0.weight', 'encoder.backbone.local_token_mlp.0.bias', 'encoder.backbone.local_token_mlp.2.weight', 'encoder.backbone.local_token_mlp.2.bias', 'encoder.backbone_projection.1.weight', 'encoder.backbone_projection.1.bias', 'encoder.epipolar_transformer.depth_encoding.1.weight', 'encoder.epipolar_transformer.depth_encoding.1.bias', 'encoder.epipolar_transformer.transformer.layers.0.0.norm.weight', 'encoder.epipolar_transformer.transformer.layers.0.0.norm.bias', 'encoder.epipolar_transformer.transformer.layers.0.0.fn.to_q.weight', 'encoder.epipolar_transformer.transformer.layers.0.0.fn.to_kv.weight', 'encoder.epipolar_transformer.transformer.layers.0.0.fn.to_out.0.weight', 'encoder.epipolar_transformer.transformer.layers.0.0.fn.to_out.0.bias', 'encoder.epipolar_transformer.transformer.layers.0.1.norm.weight', 'encoder.epipolar_transformer.transformer.layers.0.1.norm.bias', 'encoder.epipolar_transformer.transformer.layers.0.1.fn.layers.0.weight', 'encoder.epipolar_transformer.transformer.layers.0.1.fn.layers.0.bias', 'encoder.epipolar_transformer.transformer.layers.0.1.fn.layers.3.weight', 'encoder.epipolar_transformer.transformer.layers.0.1.fn.layers.3.bias', 'encoder.epipolar_transformer.transformer.layers.0.1.fn.self_attention.positional_encoding.1.weight', 'encoder.epipolar_transformer.transformer.layers.0.1.fn.self_attention.positional_encoding.1.bias', 'encoder.epipolar_transformer.transformer.layers.0.1.fn.self_attention.patch_embedder.0.weight', 'encoder.epipolar_transformer.transformer.layers.0.1.fn.self_attention.patch_embedder.0.bias', 'encoder.epipolar_transformer.transformer.layers.0.1.fn.self_attention.transformer.layers.0.0.norm.weight', 'encoder.epipolar_transformer.transformer.layers.0.1.fn.self_attention.transformer.layers.0.0.norm.bias', 'encoder.epipolar_transformer.transformer.layers.0.1.fn.self_attention.transformer.layers.0.0.fn.to_qkv.weight', 'encoder.epipolar_transformer.transformer.layers.0.1.fn.self_attention.transformer.layers.0.0.fn.to_out.0.weight', 'encoder.epipolar_transformer.transformer.layers.0.1.fn.self_attention.transformer.layers.0.0.fn.to_out.0.bias', 'encoder.epipolar_transformer.transformer.layers.0.1.fn.self_attention.transformer.layers.0.1.norm.weight', 'encoder.epipolar_transformer.transformer.layers.0.1.fn.self_attention.transformer.layers.0.1.norm.bias', 'encoder.epipolar_transformer.transformer.layers.0.1.fn.self_attention.transformer.layers.0.1.fn.net.0.weight', 'encoder.epipolar_transformer.transformer.layers.0.1.fn.self_attention.transformer.layers.0.1.fn.net.0.bias', 'encoder.epipolar_transformer.transformer.layers.0.1.fn.self_attention.transformer.layers.0.1.fn.net.3.weight', 'encoder.epipolar_transformer.transformer.layers.0.1.fn.self_attention.transformer.layers.0.1.fn.net.3.bias', 'encoder.epipolar_transformer.transformer.layers.0.1.fn.self_attention.transformer.layers.1.0.norm.weight', 'encoder.epipolar_transformer.transformer.layers.0.1.fn.self_attention.transformer.layers.1.0.norm.bias', 'encoder.epipolar_transformer.transformer.layers.0.1.fn.self_attention.transformer.layers.1.0.fn.to_qkv.weight', 'encoder.epipolar_transformer.transformer.layers.0.1.fn.self_attention.transformer.layers.1.0.fn.to_out.0.weight', 'encoder.epipolar_transformer.transformer.layers.0.1.fn.self_attention.transformer.layers.1.0.fn.to_out.0.bias', 'encoder.epipolar_transformer.transformer.layers.0.1.fn.self_attention.transformer.layers.1.1.norm.weight', 'encoder.epipolar_transformer.transformer.layers.0.1.fn.self_attention.transformer.layers.1.1.norm.bias', 'encoder.epipolar_transformer.transformer.layers.0.1.fn.self_attention.transformer.layers.1.1.fn.net.0.weight', 'encoder.epipolar_transformer.transformer.layers.0.1.fn.self_attention.transformer.layers.1.1.fn.net.0.bias', 'encoder.epipolar_transformer.transformer.layers.0.1.fn.self_attention.transformer.layers.1.1.fn.net.3.weight', 'encoder.epipolar_transformer.transformer.layers.0.1.fn.self_attention.transformer.layers.1.1.fn.net.3.bias', 'encoder.epipolar_transformer.transformer.layers.0.1.fn.self_attention.resampler.weight', 'encoder.epipolar_transformer.transformer.layers.0.1.fn.self_attention.resampler.bias', 'encoder.epipolar_transformer.transformer.layers.1.0.norm.weight', 'encoder.epipolar_transformer.transformer.layers.1.0.norm.bias', 'encoder.epipolar_transformer.transformer.layers.1.0.fn.to_q.weight', 'encoder.epipolar_transformer.transformer.layers.1.0.fn.to_kv.weight', 'encoder.epipolar_transformer.transformer.layers.1.0.fn.to_out.0.weight', 'encoder.epipolar_transformer.transformer.layers.1.0.fn.to_out.0.bias', 'encoder.epipolar_transformer.transformer.layers.1.1.norm.weight', 'encoder.epipolar_transformer.transformer.layers.1.1.norm.bias', 'encoder.epipolar_transformer.transformer.layers.1.1.fn.layers.0.weight', 'encoder.epipolar_transformer.transformer.layers.1.1.fn.layers.0.bias', 'encoder.epipolar_transformer.transformer.layers.1.1.fn.layers.3.weight', 'encoder.epipolar_transformer.transformer.layers.1.1.fn.layers.3.bias', 'encoder.epipolar_transformer.transformer.layers.1.1.fn.self_attention.positional_encoding.1.weight', 'encoder.epipolar_transformer.transformer.layers.1.1.fn.self_attention.positional_encoding.1.bias', 'encoder.epipolar_transformer.transformer.layers.1.1.fn.self_attention.patch_embedder.0.weight', 'encoder.epipolar_transformer.transformer.layers.1.1.fn.self_attention.patch_embedder.0.bias', 'encoder.epipolar_transformer.transformer.layers.1.1.fn.self_attention.transformer.layers.0.0.norm.weight', 'encoder.epipolar_transformer.transformer.layers.1.1.fn.self_attention.transformer.layers.0.0.norm.bias', 'encoder.epipolar_transformer.transformer.layers.1.1.fn.self_attention.transformer.layers.0.0.fn.to_qkv.weight', 'encoder.epipolar_transformer.transformer.layers.1.1.fn.self_attention.transformer.layers.0.0.fn.to_out.0.weight', 'encoder.epipolar_transformer.transformer.layers.1.1.fn.self_attention.transformer.layers.0.0.fn.to_out.0.bias', 'encoder.epipolar_transformer.transformer.layers.1.1.fn.self_attention.transformer.layers.0.1.norm.weight', 'encoder.epipolar_transformer.transformer.layers.1.1.fn.self_attention.transformer.layers.0.1.norm.bias', 'encoder.epipolar_transformer.transformer.layers.1.1.fn.self_attention.transformer.layers.0.1.fn.net.0.weight', 'encoder.epipolar_transformer.transformer.layers.1.1.fn.self_attention.transformer.layers.0.1.fn.net.0.bias', 'encoder.epipolar_transformer.transformer.layers.1.1.fn.self_attention.transformer.layers.0.1.fn.net.3.weight', 'encoder.epipolar_transformer.transformer.layers.1.1.fn.self_attention.transformer.layers.0.1.fn.net.3.bias', 'encoder.epipolar_transformer.transformer.layers.1.1.fn.self_attention.transformer.layers.1.0.norm.weight', 'encoder.epipolar_transformer.transformer.layers.1.1.fn.self_attention.transformer.layers.1.0.norm.bias', 'encoder.epipolar_transformer.transformer.layers.1.1.fn.self_attention.transformer.layers.1.0.fn.to_qkv.weight', 'encoder.epipolar_transformer.transformer.layers.1.1.fn.self_attention.transformer.layers.1.0.fn.to_out.0.weight', 'encoder.epipolar_transformer.transformer.layers.1.1.fn.self_attention.transformer.layers.1.0.fn.to_out.0.bias', 'encoder.epipolar_transformer.transformer.layers.1.1.fn.self_attention.transformer.layers.1.1.norm.weight', 'encoder.epipolar_transformer.transformer.layers.1.1.fn.self_attention.transformer.layers.1.1.norm.bias', 'encoder.epipolar_transformer.transformer.layers.1.1.fn.self_attention.transformer.layers.1.1.fn.net.0.weight', 'encoder.epipolar_transformer.transformer.layers.1.1.fn.self_attention.transformer.layers.1.1.fn.net.0.bias', 'encoder.epipolar_transformer.transformer.layers.1.1.fn.self_attention.transformer.layers.1.1.fn.net.3.weight', 'encoder.epipolar_transformer.transformer.layers.1.1.fn.self_attention.transformer.layers.1.1.fn.net.3.bias', 'encoder.epipolar_transformer.transformer.layers.1.1.fn.self_attention.resampler.weight', 'encoder.epipolar_transformer.transformer.layers.1.1.fn.self_attention.resampler.bias', 'encoder.epipolar_transformer.downscaler.weight', 'encoder.epipolar_transformer.downscaler.bias', 'encoder.epipolar_transformer.upscaler.weight', 'encoder.epipolar_transformer.upscaler.bias', 'encoder.epipolar_transformer.upscale_refinement.0.weight', 'encoder.epipolar_transformer.upscale_refinement.0.bias', 'encoder.epipolar_transformer.upscale_refinement.2.weight', 'encoder.epipolar_transformer.upscale_refinement.2.bias', 'encoder.depth_predictor.projection.1.weight', 'encoder.depth_predictor.projection.1.bias', 'encoder.to_gaussians.1.weight', 'encoder.to_gaussians.1.bias', 'encoder.high_resolution_skip.0.weight', 'encoder.high_resolution_skip.0.bias'])"
      ]
     },
     "execution_count": 3,
     "metadata": {},
     "output_type": "execute_result"
    }
   ],
   "source": [
    "new_model['gaussian'].keys()"
   ]
  },
  {
   "cell_type": "code",
   "execution_count": null,
   "metadata": {},
   "outputs": [
    {
     "ename": "",
     "evalue": "",
     "output_type": "error",
     "traceback": [
      "\u001b[1;31mRunning cells with 'splatam' requires the ipykernel package.\n",
      "\u001b[1;31mRun the following command to install 'ipykernel' into the Python environment. \n",
      "\u001b[1;31mCommand: 'conda install -n splatam ipykernel --update-deps --force-reinstall'"
     ]
    }
   ],
   "source": [
    "import torch\n",
    "import torch.nn.functional as F\n",
    "\n",
    "# 假设 x 是已有的张量，形状为 [1, 5, 4, 11408, 32, 128]\n",
    "x = torch.randn(1, 5, 4, 11408, 32, 128)\n",
    "\n",
    "# 使用 max_pool3d 来进行池化\n",
    "# 因为我们只需要池化第三个维度，所以 kernel_size 设置为 (4, 1, 1)\n",
    "# 这意味着我们在第三个维度上使用了大小为4的窗口，而其他维度的大小为1\n",
    "# stride 默认与 kernel_size 相同\n",
    "# padding 设置为0，因为我们不需要在任何边缘添加填充\n",
    "x_pooled = F.max_pool3d(x, kernel_size=(4, 1, 1))\n",
    "\n",
    "print(x_pooled.shape)"
   ]
  },
  {
   "cell_type": "code",
   "execution_count": null,
   "metadata": {},
   "outputs": [],
   "source": [
    "\n",
    "attn = torch.nn.functional.conv2d(keys, queries, stride=1)\n",
    "\n",
    "attn = attn.reshape(h, w, 192, 252).to('cpu').detach().numpy()\n",
    "\n",
    "print(attn.shape)"
   ]
  },
  {
   "cell_type": "code",
   "execution_count": null,
   "metadata": {},
   "outputs": [],
   "source": [
    "\n",
    "attn = attn > 0"
   ]
  },
  {
   "cell_type": "code",
   "execution_count": null,
   "metadata": {},
   "outputs": [],
   "source": [
    "import matplotlib.pyplot as plt\n",
    "fig,a =  plt.subplots(h,w)\n",
    "for i, per_img_masks in enumerate(attn):\n",
    "    for j, per_mask in enumerate(per_img_masks):\n",
    "        norm_mask = per_mask / np.linalg.norm(per_mask)\n",
    "        a[i][j].set_axis_off()\n",
    "        a[i][j].imshow(norm_mask)\n",
    "plt.axis(\"off\")\n",
    "plt.savefig('out/feat_attn.pdf', bbox_inches='tight')"
   ]
  },
  {
   "cell_type": "code",
   "execution_count": null,
   "metadata": {},
   "outputs": [],
   "source": [
    "import torch\n",
    "import numpy as np\n",
    "feat_2d = torch.from_numpy(np.load(\"out/feat_2d.npy\")).to(\"cuda:1\")\n",
    "roi = feat_2d[250:252, 190:192, 32:]\n",
    "\n",
    "keys = out / out.norm(dim=0, keepdim=True)\n",
    "queries = roi / roi.norm(dim=1, keepdim=True)\n",
    "attn = queries @ keys.reshape(keys.shape[0], -1)\n",
    "h, w = attn.shape[:2]\n",
    "attn = attn.reshape(h, w, 192, 252).to('cpu').detach().numpy()\n"
   ]
  },
  {
   "cell_type": "code",
   "execution_count": null,
   "metadata": {},
   "outputs": [],
   "source": [
    "import torch\n",
    "\n",
    "# 定义 query 和 key tensor\n",
    "query = torch.randn(1, 13, 17, 256)\n",
    "key = torch.randn(1, 100, 200, 256)\n",
    "\n",
    "# 将 query 和 key 分别转换为形状为 (1, 256, 13, 17) 和 (1, 256, 100, 200) 的 tensor\n",
    "query = query.permute(0, 3, 1, 2)\n",
    "key = key.permute(0, 3, 1, 2)\n",
    "\n",
    "# 使用 2D 卷积计算 correlation map\n",
    "corr_map = torch.nn.functional.conv2d(key, query, stride=1)\n",
    "\n",
    "# 转换 correlation map 的形状为 (1, 13, 17, 100, 200)\n",
    "corr_map = corr_map.permute(0, 2, 3, 1)\n"
   ]
  },
  {
   "cell_type": "code",
   "execution_count": null,
   "metadata": {},
   "outputs": [],
   "source": [
    "norm_mask = attn[6][6] # / np.linalg.norm(attn[1][5])\n",
    "np.min(norm_mask)\n",
    "# norm_mask = norm_mask > 0.9\n",
    "plt.imshow(norm_mask)\n",
    "plt.colorbar()"
   ]
  },
  {
   "cell_type": "code",
   "execution_count": null,
   "metadata": {},
   "outputs": [],
   "source": [
    "keys.unique()"
   ]
  },
  {
   "cell_type": "code",
   "execution_count": null,
   "metadata": {},
   "outputs": [],
   "source": [
    "np.unique(attn)"
   ]
  },
  {
   "cell_type": "code",
   "execution_count": null,
   "metadata": {},
   "outputs": [],
   "source": [
    "import matplotlib.pyplot as plt\n",
    "from mpl_toolkits.mplot3d import Axes3D\n",
    "fig = plt.figure()\n",
    "ax = fig.add_subplot(111, projection='3d')\n",
    "ax.set_xlabel('X')\n",
    "ax.set_ylabel('Y')\n",
    "ax.set_zlabel('Z')\n",
    "for pose in all_poses:\n",
    "    # 姿态的位置信息\n",
    "    position = pose[:3, 3]\n",
    "    x, y, z = position\n",
    "\n",
    "    # 姿态的旋转信息\n",
    "    rotation = pose[:3, :3]\n",
    "\n",
    "    # 绘制位置\n",
    "    ax.scatter(x, y, z, c='r', marker='o')\n",
    "\n",
    "    # 绘制方向箭头\n",
    "    arrow_length = 0.1\n",
    "    ax.quiver(x, y, z, rotation[0, 0], rotation[1, 0], rotation[2, 0], length=arrow_length, color='r')\n",
    "    ax.quiver(x, y, z, rotation[0, 1], rotation[1, 1], rotation[2, 1], length=arrow_length, color='g')\n",
    "    ax.quiver(x, y, z, rotation[0, 2], rotation[1, 2], rotation[2, 2], length=arrow_length, color='b')\n",
    "\n",
    "\n",
    "# # 设置坐标轴范围\n",
    "# ax.set_xlim([xmin, xmax])\n",
    "# ax.set_ylim([ymin, ymax])\n",
    "# ax.set_zlim([zmin, zmax])\n",
    "\n",
    "# 显示图形\n",
    "plt.show()\n",
    "\n"
   ]
  },
  {
   "cell_type": "code",
   "execution_count": null,
   "metadata": {},
   "outputs": [],
   "source": [
    "import torch\n",
    "import re\n",
    "model1 = torch.load(\"./out/gnt_semantic_lr2/model_050000.pth\")\n",
    "print(model1['sem_seg_head'].keys())"
   ]
  },
  {
   "cell_type": "code",
   "execution_count": null,
   "metadata": {},
   "outputs": [],
   "source": [
    "import numpy as np \n",
    "import matplotlib.pyplot as plt\n",
    "predicted_labels = np.load(\"out/predicted_labels.npy\")\n",
    "true_labels = np.load(\"out/true_labels.npy\")\n",
    "\n",
    "plt.imshow(true_labels)\n",
    "plt.show()\n",
    "plt.imshow(predicted_labels)\n",
    "plt.show()\n"
   ]
  },
  {
   "cell_type": "code",
   "execution_count": null,
   "metadata": {},
   "outputs": [],
   "source": [
    "from sklearn.decomposition import PCA\n",
    "import numpy as np\n",
    "import matplotlib.pyplot as plt\n",
    "import torch\n",
    "def calc_pca(emb, vis=False):\n",
    "    X = emb.flatten(0, -2).cpu().numpy()\n",
    "    np.random.seed(80)\n",
    "    pca = PCA(n_components=3)\n",
    "    pca.fit(X)\n",
    "    X_rgb = pca.transform(X).reshape(*emb.shape[:2], 3)\n",
    "    if vis:\n",
    "        plt.imshow(X_rgb)\n",
    "        plt.axis(\"off\")\n",
    "        plt.show()\n",
    "    return X_rgb\n",
    "\n",
    "agg_feat_2d = np.load(\"out/agg_feat_2d.npy\")\n",
    "agg_feat_2d = torch.from_numpy(agg_feat_2d)\n",
    "calc_pca(agg_feat_2d, vis=True)\n",
    "\n",
    "cnn_feat_2d = np.load(\"out/cnn_feat_2d.npy\")\n",
    "cnn_feat_2d = torch.from_numpy(cnn_feat_2d).permute(1,2,0)\n",
    "calc_pca(cnn_feat_2d, vis=True)"
   ]
  },
  {
   "cell_type": "code",
   "execution_count": null,
   "metadata": {},
   "outputs": [],
   "source": [
    "agg_feat_2d = np.load(\"out/sems.npy\")[0]\n",
    "agg_feat_2d = torch.from_numpy(agg_feat_2d)\n",
    "calc_pca(agg_feat_2d, vis=True)\n",
    "\n",
    "cnn_feat_2d = np.load(\"/home/hao/lihao/GNT/out/sems.npy\")[0]\n",
    "cnn_feat_2d = torch.from_numpy(cnn_feat_2d)\n",
    "calc_pca(cnn_feat_2d, vis=True)\n",
    "\n",
    "import torch.nn.functional as F\n",
    "print(F.cosine_similarity(cnn_feat_2d, agg_feat_2d))"
   ]
  },
  {
   "cell_type": "code",
   "execution_count": null,
   "metadata": {},
   "outputs": [],
   "source": [
    "from sklearn.decomposition import PCA\n",
    "import numpy as np\n",
    "import matplotlib.pyplot as plt\n",
    "import torch\n",
    "def calc_pca(emb, vis=False):\n",
    "    X = emb.flatten(0, -2).cpu().numpy()\n",
    "    np.random.seed(10)\n",
    "    pca = PCA(n_components=3)\n",
    "    pca.fit(X)\n",
    "    X_rgb = pca.transform(X).reshape(*emb.shape[:2], 3)\n",
    "    if vis:\n",
    "        plt.imshow(X_rgb)\n",
    "        plt.axis(\"off\")\n",
    "        plt.show()\n",
    "    return X_rgb\n",
    "\n",
    "feat_2d = np.load(\"out/feats_out.npy\")\n",
    "feat_2d = torch.from_numpy(feat_2d)\n",
    "# feat_2d = feat_2d.permute(2,0,1)\n",
    "\n",
    "calc_pca(feat_2d, vis=True)\n",
    "print(feat_2d.shape)"
   ]
  },
  {
   "cell_type": "code",
   "execution_count": null,
   "metadata": {},
   "outputs": [],
   "source": [
    "from sklearn.decomposition import PCA\n",
    "import numpy as np\n",
    "import matplotlib.pyplot as plt\n",
    "import torch\n",
    "def calc_pca(emb, vis=False):\n",
    "    X = emb.flatten(0, -2).cpu().numpy()\n",
    "    np.random.seed(10)\n",
    "    pca = PCA(n_components=3)\n",
    "    pca.fit(X)\n",
    "    X_rgb = pca.transform(X).reshape(*emb.shape[:2], 3)\n",
    "    if vis:\n",
    "        plt.imshow(X_rgb)\n",
    "        plt.axis(\"off\")\n",
    "        plt.show()\n",
    "    return X_rgb\n",
    "\n",
    "feat_2d = np.load(\"out/feats_out.npy\")\n",
    "feat_2d = torch.from_numpy(feat_2d)\n",
    "# feat_2d = feat_2d.permute(2,0,1)\n",
    "\n",
    "calc_pca(feat_2d, vis=True)\n",
    "print(feat_2d.shape)"
   ]
  }
 ],
 "metadata": {
  "kernelspec": {
   "display_name": "leo_pytorch",
   "language": "python",
   "name": "python3"
  },
  "language_info": {
   "codemirror_mode": {
    "name": "ipython",
    "version": 3
   },
   "file_extension": ".py",
   "mimetype": "text/x-python",
   "name": "python",
   "nbconvert_exporter": "python",
   "pygments_lexer": "ipython3",
   "version": "3.10.13"
  },
  "orig_nbformat": 4
 },
 "nbformat": 4,
 "nbformat_minor": 2
}
