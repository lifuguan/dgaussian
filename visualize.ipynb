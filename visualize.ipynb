{
 "cells": [
  {
   "cell_type": "code",
   "execution_count": 6,
   "metadata": {},
   "outputs": [
    {
     "name": "stdout",
     "output_type": "stream",
     "text": [
      "dict_keys(['optimizer', 'scheduler', 'pose_optimizer', 'pose_scheduler', 'net_coarse', 'feature_net', 'pose_learner'])\n"
     ]
    }
   ],
   "source": [
    "import torch\n",
    "\n",
    "dbarf = torch.load('./model_zoo/dbarf_model_200000.pth',map_location=torch.device('cuda:0'))\n",
    "pixelsplat = torch.load('/ssd2/lihao/pixelsplat/outputs/llff/room/26000_resnet.ckpt',map_location=torch.device('cuda:0'))\n",
    "print(dbarf.keys())\n",
    "new_model = {}\n",
    "new_model['pose_learner'] = dbarf['pose_learner']\n",
    "new_model['gaussian'] = pixelsplat['state_dict']\n",
    "torch.save(new_model,'/ssd2/lihao/pixelsplat/outputs/llff/room/26000_resnet.ckpt')"
   ]
  },
  {
   "cell_type": "code",
   "execution_count": 1,
   "metadata": {},
   "outputs": [
    {
     "ename": "NameError",
     "evalue": "name 'new_model' is not defined",
     "output_type": "error",
     "traceback": [
      "\u001b[0;31m---------------------------------------------------------------------------\u001b[0m",
      "\u001b[0;31mNameError\u001b[0m                                 Traceback (most recent call last)",
      "\u001b[1;32m/ssd2/lihao/dgaussian/visualize.ipynb Cell 2\u001b[0m line \u001b[0;36m1\n\u001b[0;32m----> <a href='vscode-notebook-cell://icoding%2B463844.icoding.baidu-int.com/ssd2/lihao/dgaussian/visualize.ipynb#W1sdnNjb2RlLXJlbW90ZQ%3D%3D?line=0'>1</a>\u001b[0m new_model[\u001b[39m'\u001b[39m\u001b[39mgaussian\u001b[39m\u001b[39m'\u001b[39m]\u001b[39m.\u001b[39mkeys()\n",
      "\u001b[0;31mNameError\u001b[0m: name 'new_model' is not defined"
     ]
    }
   ],
   "source": [
    "new_model['gaussian'].keys()"
   ]
  },
  {
   "cell_type": "code",
   "execution_count": 2,
   "metadata": {},
   "outputs": [
    {
     "name": "stderr",
     "output_type": "stream",
     "text": [
      "/home/lihao/miniconda3/envs/splatam/lib/python3.10/site-packages/tqdm/auto.py:21: TqdmWarning: IProgress not found. Please update jupyter and ipywidgets. See https://ipywidgets.readthedocs.io/en/stable/user_install.html\n",
      "  from .autonotebook import tqdm as notebook_tqdm\n"
     ]
    },
    {
     "ename": "FileNotFoundError",
     "evalue": "[Errno 2] No such file or directory: './data/ibrnet/train/out/depth_room/model/model_000000.pth'",
     "output_type": "error",
     "traceback": [
      "\u001b[0;31m---------------------------------------------------------------------------\u001b[0m",
      "\u001b[0;31mFileNotFoundError\u001b[0m                         Traceback (most recent call last)",
      "\u001b[1;32m/ssd2/lihao/dgaussian/visualize.ipynb Cell 3\u001b[0m line \u001b[0;36m4\n\u001b[1;32m      <a href='vscode-notebook-cell://icoding%2B463844.icoding.baidu-int.com/ssd2/lihao/dgaussian/visualize.ipynb#W2sdnNjb2RlLXJlbW90ZQ%3D%3D?line=0'>1</a>\u001b[0m \u001b[39mimport\u001b[39;00m \u001b[39mtorch\u001b[39;00m\n\u001b[1;32m      <a href='vscode-notebook-cell://icoding%2B463844.icoding.baidu-int.com/ssd2/lihao/dgaussian/visualize.ipynb#W2sdnNjb2RlLXJlbW90ZQ%3D%3D?line=2'>3</a>\u001b[0m origin \u001b[39m=\u001b[39m torch\u001b[39m.\u001b[39mload(\u001b[39m'\u001b[39m\u001b[39m./model_zoo/dgaussian_resnet.pth\u001b[39m\u001b[39m'\u001b[39m,map_location\u001b[39m=\u001b[39mtorch\u001b[39m.\u001b[39mdevice(\u001b[39m'\u001b[39m\u001b[39mcuda:0\u001b[39m\u001b[39m'\u001b[39m))\n\u001b[0;32m----> <a href='vscode-notebook-cell://icoding%2B463844.icoding.baidu-int.com/ssd2/lihao/dgaussian/visualize.ipynb#W2sdnNjb2RlLXJlbW90ZQ%3D%3D?line=3'>4</a>\u001b[0m dbarf0 \u001b[39m=\u001b[39m torch\u001b[39m.\u001b[39;49mload(\u001b[39m'\u001b[39;49m\u001b[39m./data/ibrnet/train/out/depth_room/model/model_000000.pth\u001b[39;49m\u001b[39m'\u001b[39;49m,map_location\u001b[39m=\u001b[39;49mtorch\u001b[39m.\u001b[39;49mdevice(\u001b[39m'\u001b[39;49m\u001b[39mcuda:0\u001b[39;49m\u001b[39m'\u001b[39;49m))\n\u001b[1;32m      <a href='vscode-notebook-cell://icoding%2B463844.icoding.baidu-int.com/ssd2/lihao/dgaussian/visualize.ipynb#W2sdnNjb2RlLXJlbW90ZQ%3D%3D?line=4'>5</a>\u001b[0m dbarf500 \u001b[39m=\u001b[39m torch\u001b[39m.\u001b[39mload(\u001b[39m'\u001b[39m\u001b[39m./data/ibrnet/train/out/depth_room/model/model_000500.pth\u001b[39m\u001b[39m'\u001b[39m,map_location\u001b[39m=\u001b[39mtorch\u001b[39m.\u001b[39mdevice(\u001b[39m'\u001b[39m\u001b[39mcuda:0\u001b[39m\u001b[39m'\u001b[39m))\n\u001b[1;32m      <a href='vscode-notebook-cell://icoding%2B463844.icoding.baidu-int.com/ssd2/lihao/dgaussian/visualize.ipynb#W2sdnNjb2RlLXJlbW90ZQ%3D%3D?line=5'>6</a>\u001b[0m dbarf2000 \u001b[39m=\u001b[39m torch\u001b[39m.\u001b[39mload(\u001b[39m'\u001b[39m\u001b[39mdata/ibrnet/train/out/no_depth_room_lr/model/model_002000.pth\u001b[39m\u001b[39m'\u001b[39m,map_location\u001b[39m=\u001b[39mtorch\u001b[39m.\u001b[39mdevice(\u001b[39m'\u001b[39m\u001b[39mcuda:0\u001b[39m\u001b[39m'\u001b[39m))\n",
      "File \u001b[0;32m~/miniconda3/envs/splatam/lib/python3.10/site-packages/torch/serialization.py:699\u001b[0m, in \u001b[0;36mload\u001b[0;34m(f, map_location, pickle_module, **pickle_load_args)\u001b[0m\n\u001b[1;32m    696\u001b[0m \u001b[39mif\u001b[39;00m \u001b[39m'\u001b[39m\u001b[39mencoding\u001b[39m\u001b[39m'\u001b[39m \u001b[39mnot\u001b[39;00m \u001b[39min\u001b[39;00m pickle_load_args\u001b[39m.\u001b[39mkeys():\n\u001b[1;32m    697\u001b[0m     pickle_load_args[\u001b[39m'\u001b[39m\u001b[39mencoding\u001b[39m\u001b[39m'\u001b[39m] \u001b[39m=\u001b[39m \u001b[39m'\u001b[39m\u001b[39mutf-8\u001b[39m\u001b[39m'\u001b[39m\n\u001b[0;32m--> 699\u001b[0m \u001b[39mwith\u001b[39;00m _open_file_like(f, \u001b[39m'\u001b[39;49m\u001b[39mrb\u001b[39;49m\u001b[39m'\u001b[39;49m) \u001b[39mas\u001b[39;00m opened_file:\n\u001b[1;32m    700\u001b[0m     \u001b[39mif\u001b[39;00m _is_zipfile(opened_file):\n\u001b[1;32m    701\u001b[0m         \u001b[39m# The zipfile reader is going to advance the current file position.\u001b[39;00m\n\u001b[1;32m    702\u001b[0m         \u001b[39m# If we want to actually tail call to torch.jit.load, we need to\u001b[39;00m\n\u001b[1;32m    703\u001b[0m         \u001b[39m# reset back to the original position.\u001b[39;00m\n\u001b[1;32m    704\u001b[0m         orig_position \u001b[39m=\u001b[39m opened_file\u001b[39m.\u001b[39mtell()\n",
      "File \u001b[0;32m~/miniconda3/envs/splatam/lib/python3.10/site-packages/torch/serialization.py:230\u001b[0m, in \u001b[0;36m_open_file_like\u001b[0;34m(name_or_buffer, mode)\u001b[0m\n\u001b[1;32m    228\u001b[0m \u001b[39mdef\u001b[39;00m \u001b[39m_open_file_like\u001b[39m(name_or_buffer, mode):\n\u001b[1;32m    229\u001b[0m     \u001b[39mif\u001b[39;00m _is_path(name_or_buffer):\n\u001b[0;32m--> 230\u001b[0m         \u001b[39mreturn\u001b[39;00m _open_file(name_or_buffer, mode)\n\u001b[1;32m    231\u001b[0m     \u001b[39melse\u001b[39;00m:\n\u001b[1;32m    232\u001b[0m         \u001b[39mif\u001b[39;00m \u001b[39m'\u001b[39m\u001b[39mw\u001b[39m\u001b[39m'\u001b[39m \u001b[39min\u001b[39;00m mode:\n",
      "File \u001b[0;32m~/miniconda3/envs/splatam/lib/python3.10/site-packages/torch/serialization.py:211\u001b[0m, in \u001b[0;36m_open_file.__init__\u001b[0;34m(self, name, mode)\u001b[0m\n\u001b[1;32m    210\u001b[0m \u001b[39mdef\u001b[39;00m \u001b[39m__init__\u001b[39m(\u001b[39mself\u001b[39m, name, mode):\n\u001b[0;32m--> 211\u001b[0m     \u001b[39msuper\u001b[39m(_open_file, \u001b[39mself\u001b[39m)\u001b[39m.\u001b[39m\u001b[39m__init__\u001b[39m(\u001b[39mopen\u001b[39;49m(name, mode))\n",
      "\u001b[0;31mFileNotFoundError\u001b[0m: [Errno 2] No such file or directory: './data/ibrnet/train/out/depth_room/model/model_000000.pth'"
     ]
    }
   ],
   "source": [
    "import torch\n",
    "\n",
    "origin = torch.load('./model_zoo/dgaussian_resnet.pth',map_location=torch.device('cuda:0'))\n",
    "dbarf0 = torch.load('./data/ibrnet/train/out/depth_room/model/model_000000.pth',map_location=torch.device('cuda:0'))\n",
    "dbarf500 = torch.load('./data/ibrnet/train/out/depth_room/model/model_000500.pth',map_location=torch.device('cuda:0'))\n",
    "dbarf2000 = torch.load('data/ibrnet/train/out/no_depth_room_lr/model/model_002000.pth',map_location=torch.device('cuda:0'))\n"
   ]
  },
  {
   "cell_type": "code",
   "execution_count": 3,
   "metadata": {},
   "outputs": [
    {
     "ename": "NameError",
     "evalue": "name 'dbarf500' is not defined",
     "output_type": "error",
     "traceback": [
      "\u001b[0;31m---------------------------------------------------------------------------\u001b[0m",
      "\u001b[0;31mNameError\u001b[0m                                 Traceback (most recent call last)",
      "\u001b[1;32m/ssd2/lihao/dgaussian/visualize.ipynb Cell 4\u001b[0m line \u001b[0;36m1\n\u001b[0;32m----> <a href='vscode-notebook-cell://icoding%2B463844.icoding.baidu-int.com/ssd2/lihao/dgaussian/visualize.ipynb#W3sdnNjb2RlLXJlbW90ZQ%3D%3D?line=0'>1</a>\u001b[0m dbarf500\u001b[39m.\u001b[39mkeys()\n",
      "\u001b[0;31mNameError\u001b[0m: name 'dbarf500' is not defined"
     ]
    }
   ],
   "source": [
    "dbarf500.keys()"
   ]
  },
  {
   "cell_type": "code",
   "execution_count": 4,
   "metadata": {},
   "outputs": [
    {
     "ename": "NameError",
     "evalue": "name 'attn' is not defined",
     "output_type": "error",
     "traceback": [
      "\u001b[0;31m---------------------------------------------------------------------------\u001b[0m",
      "\u001b[0;31mNameError\u001b[0m                                 Traceback (most recent call last)",
      "\u001b[1;32m/ssd2/lihao/dgaussian/visualize.ipynb Cell 5\u001b[0m line \u001b[0;36m1\n\u001b[0;32m----> <a href='vscode-notebook-cell://icoding%2B463844.icoding.baidu-int.com/ssd2/lihao/dgaussian/visualize.ipynb#W4sdnNjb2RlLXJlbW90ZQ%3D%3D?line=0'>1</a>\u001b[0m attn \u001b[39m=\u001b[39m attn \u001b[39m>\u001b[39m \u001b[39m0\u001b[39m\n",
      "\u001b[0;31mNameError\u001b[0m: name 'attn' is not defined"
     ]
    }
   ],
   "source": [
    "\n",
    "attn = attn > 0"
   ]
  },
  {
   "cell_type": "code",
   "execution_count": null,
   "metadata": {},
   "outputs": [],
   "source": [
    "import matplotlib.pyplot as plt\n",
    "fig,a =  plt.subplots(h,w)\n",
    "for i, per_img_masks in enumerate(attn):\n",
    "    for j, per_mask in enumerate(per_img_masks):\n",
    "        norm_mask = per_mask / np.linalg.norm(per_mask)\n",
    "        a[i][j].set_axis_off()\n",
    "        a[i][j].imshow(norm_mask)\n",
    "plt.axis(\"off\")\n",
    "plt.savefig('out/feat_attn.pdf', bbox_inches='tight')"
   ]
  },
  {
   "cell_type": "code",
   "execution_count": null,
   "metadata": {},
   "outputs": [],
   "source": [
    "import torch\n",
    "import numpy as np\n",
    "feat_2d = torch.from_numpy(np.load(\"out/feat_2d.npy\")).to(\"cuda:1\")\n",
    "roi = feat_2d[250:252, 190:192, 32:]\n",
    "\n",
    "keys = out / out.norm(dim=0, keepdim=True)\n",
    "queries = roi / roi.norm(dim=1, keepdim=True)\n",
    "attn = queries @ keys.reshape(keys.shape[0], -1)\n",
    "h, w = attn.shape[:2]\n",
    "attn = attn.reshape(h, w, 192, 252).to('cpu').detach().numpy()\n"
   ]
  },
  {
   "cell_type": "code",
   "execution_count": null,
   "metadata": {},
   "outputs": [],
   "source": [
    "import torch\n",
    "\n",
    "# 定义 query 和 key tensor\n",
    "query = torch.randn(1, 13, 17, 256)\n",
    "key = torch.randn(1, 100, 200, 256)\n",
    "\n",
    "# 将 query 和 key 分别转换为形状为 (1, 256, 13, 17) 和 (1, 256, 100, 200) 的 tensor\n",
    "query = query.permute(0, 3, 1, 2)\n",
    "key = key.permute(0, 3, 1, 2)\n",
    "\n",
    "# 使用 2D 卷积计算 correlation map\n",
    "corr_map = torch.nn.functional.conv2d(key, query, stride=1)\n",
    "\n",
    "# 转换 correlation map 的形状为 (1, 13, 17, 100, 200)\n",
    "corr_map = corr_map.permute(0, 2, 3, 1)\n"
   ]
  },
  {
   "cell_type": "code",
   "execution_count": null,
   "metadata": {},
   "outputs": [],
   "source": [
    "norm_mask = attn[6][6] # / np.linalg.norm(attn[1][5])\n",
    "np.min(norm_mask)\n",
    "# norm_mask = norm_mask > 0.9\n",
    "plt.imshow(norm_mask)\n",
    "plt.colorbar()"
   ]
  },
  {
   "cell_type": "code",
   "execution_count": null,
   "metadata": {},
   "outputs": [],
   "source": [
    "keys.unique()"
   ]
  },
  {
   "cell_type": "code",
   "execution_count": null,
   "metadata": {},
   "outputs": [],
   "source": [
    "np.unique(attn)"
   ]
  },
  {
   "cell_type": "code",
   "execution_count": null,
   "metadata": {},
   "outputs": [],
   "source": [
    "import matplotlib.pyplot as plt\n",
    "from mpl_toolkits.mplot3d import Axes3D\n",
    "fig = plt.figure()\n",
    "ax = fig.add_subplot(111, projection='3d')\n",
    "ax.set_xlabel('X')\n",
    "ax.set_ylabel('Y')\n",
    "ax.set_zlabel('Z')\n",
    "for pose in all_poses:\n",
    "    # 姿态的位置信息\n",
    "    position = pose[:3, 3]\n",
    "    x, y, z = position\n",
    "\n",
    "    # 姿态的旋转信息\n",
    "    rotation = pose[:3, :3]\n",
    "\n",
    "    # 绘制位置\n",
    "    ax.scatter(x, y, z, c='r', marker='o')\n",
    "\n",
    "    # 绘制方向箭头\n",
    "    arrow_length = 0.1\n",
    "    ax.quiver(x, y, z, rotation[0, 0], rotation[1, 0], rotation[2, 0], length=arrow_length, color='r')\n",
    "    ax.quiver(x, y, z, rotation[0, 1], rotation[1, 1], rotation[2, 1], length=arrow_length, color='g')\n",
    "    ax.quiver(x, y, z, rotation[0, 2], rotation[1, 2], rotation[2, 2], length=arrow_length, color='b')\n",
    "\n",
    "\n",
    "# # 设置坐标轴范围\n",
    "# ax.set_xlim([xmin, xmax])\n",
    "# ax.set_ylim([ymin, ymax])\n",
    "# ax.set_zlim([zmin, zmax])\n",
    "\n",
    "# 显示图形\n",
    "plt.show()\n",
    "\n"
   ]
  },
  {
   "cell_type": "code",
   "execution_count": null,
   "metadata": {},
   "outputs": [],
   "source": [
    "import numpy as np\n",
    "np.save(\"outputs/depth_room.npy\", depth.cpu().detach().numpy())"
   ]
  },
  {
   "cell_type": "code",
   "execution_count": null,
   "metadata": {},
   "outputs": [],
   "source": [
    "import numpy as np \n",
    "import matplotlib.pyplot as plt\n",
    "predicted_labels = np.load(\"out/predicted_labels.npy\")\n",
    "true_labels = np.load(\"out/true_labels.npy\")\n",
    "\n",
    "plt.imshow(true_labels)\n",
    "plt.show()\n",
    "plt.imshow(predicted_labels)\n",
    "plt.show()\n"
   ]
  },
  {
   "cell_type": "code",
   "execution_count": null,
   "metadata": {},
   "outputs": [],
   "source": [
    "from sklearn.decomposition import PCA\n",
    "import numpy as np\n",
    "import matplotlib.pyplot as plt\n",
    "import torch\n",
    "def calc_pca(emb, vis=False):\n",
    "    X = emb.flatten(0, -2).cpu().numpy()\n",
    "    np.random.seed(80)\n",
    "    pca = PCA(n_components=3)\n",
    "    pca.fit(X)\n",
    "    X_rgb = pca.transform(X).reshape(*emb.shape[:2], 3)\n",
    "    if vis:\n",
    "        plt.imshow(X_rgb)\n",
    "        plt.axis(\"off\")\n",
    "        plt.show()\n",
    "    return X_rgb\n",
    "\n",
    "agg_feat_2d = np.load(\"out/agg_feat_2d.npy\")\n",
    "agg_feat_2d = torch.from_numpy(agg_feat_2d)\n",
    "calc_pca(agg_feat_2d, vis=True)\n",
    "\n",
    "cnn_feat_2d = np.load(\"out/cnn_feat_2d.npy\")\n",
    "cnn_feat_2d = torch.from_numpy(cnn_feat_2d).permute(1,2,0)\n",
    "calc_pca(cnn_feat_2d, vis=True)"
   ]
  },
  {
   "cell_type": "code",
   "execution_count": null,
   "metadata": {},
   "outputs": [],
   "source": [
    "agg_feat_2d = np.load(\"out/sems.npy\")[0]\n",
    "agg_feat_2d = torch.from_numpy(agg_feat_2d)\n",
    "calc_pca(agg_feat_2d, vis=True)\n",
    "\n",
    "cnn_feat_2d = np.load(\"/home/hao/lihao/GNT/out/sems.npy\")[0]\n",
    "cnn_feat_2d = torch.from_numpy(cnn_feat_2d)\n",
    "calc_pca(cnn_feat_2d, vis=True)\n",
    "\n",
    "import torch.nn.functional as F\n",
    "print(F.cosine_similarity(cnn_feat_2d, agg_feat_2d))"
   ]
  }
 ],
 "metadata": {
  "kernelspec": {
   "display_name": "leo_pytorch",
   "language": "python",
   "name": "python3"
  },
  "language_info": {
   "codemirror_mode": {
    "name": "ipython",
    "version": 3
   },
   "file_extension": ".py",
   "mimetype": "text/x-python",
   "name": "python",
   "nbconvert_exporter": "python",
   "pygments_lexer": "ipython3",
   "version": "3.10.13"
  },
  "orig_nbformat": 4
 },
 "nbformat": 4,
 "nbformat_minor": 2
}
