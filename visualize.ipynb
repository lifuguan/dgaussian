{
 "cells": [
  {
   "cell_type": "code",
   "execution_count": 1,
   "metadata": {},
   "outputs": [
    {
     "name": "stderr",
     "output_type": "stream",
     "text": [
      "/home/gyy/anaconda3/envs/splat/lib/python3.10/site-packages/tqdm/auto.py:21: TqdmWarning: IProgress not found. Please update jupyter and ipywidgets. See https://ipywidgets.readthedocs.io/en/stable/user_install.html\n",
      "  from .autonotebook import tqdm as notebook_tqdm\n"
     ]
    },
    {
     "name": "stdout",
     "output_type": "stream",
     "text": [
      "dict_keys(['optimizer', 'scheduler', 'pose_optimizer', 'pose_scheduler', 'net_coarse', 'feature_net', 'pose_learner'])\n"
     ]
    }
   ],
   "source": [
    "import torch\n",
    "\n",
    "dbarf = torch.load('/home/gyy/Downloads/dgaussin_train/dgaussian/checkpoint/dbarf_model_200000.pth',map_location=torch.device('cuda:0'))\n",
    "pixelsplat = torch.load('/home/gyy/Downloads/3500.ckpt',map_location=torch.device('cuda:0'))\n",
    "print(dbarf.keys())\n",
    "new_model = {}\n",
    "new_model['pose_learner'] = dbarf['pose_learner']\n",
    "new_model['gaussian'] = pixelsplat['state_dict']\n",
    "torch.save(new_model,'./model_zoo/dgaussian_resnet.pth')"
   ]
  },
  {
   "cell_type": "code",
   "execution_count": 3,
   "metadata": {},
   "outputs": [],
   "source": [
    "# new_model['gaussian'].keys()\n",
    "import fnmatch\n",
    "a=fnmatch.filter(new_model['gaussian'].keys(),'encoder.backbone.local_token_mlp.*')\n",
    "b=fnmatch.filter(new_model['gaussian'].keys(),'encoder.backbone.dino.*')\n",
    "c=fnmatch.filter(new_model['gaussian'].keys(),'encoder.backbone.global_token_mlp.*')\n",
    "# print(a) encoder.backbone.dino. encoder.backbone.global_token_mlp\n",
    "for key in a:\n",
    "    new_model['gaussian'].pop(key)\n",
    "for key in b:\n",
    "    new_model['gaussian'].pop(key)\n",
    "for key in c:\n",
    "    new_model['gaussian'].pop(key)\n",
    "new_model['gaussian'].keys()\n",
    "torch.save(new_model,'./model_zoo/dgaussian_resnet.pth')\n",
    "# del new_model['gaussian']['encoder.backbone.dino.*']\n",
    "# new_model['gaussian'].keys()"
   ]
  },
  {
   "cell_type": "code",
   "execution_count": 3,
   "metadata": {},
   "outputs": [],
   "source": [
    "import torch\n",
    "\n",
    "origin = torch.load('./model_zoo/dgaussian_resnet.pth',map_location=torch.device('cuda:0'))\n",
    "dbarf0 = torch.load('./data/ibrnet/train/out/depth_room/model/model_000000.pth',map_location=torch.device('cuda:0'))\n",
    "dbarf500 = torch.load('./data/ibrnet/train/out/depth_room/model/model_000500.pth',map_location=torch.device('cuda:0'))\n",
    "dbarf2000 = torch.load('data/ibrnet/train/out/no_depth_room_lr/model/model_002000.pth',map_location=torch.device('cuda:0'))\n"
   ]
  },
  {
   "cell_type": "code",
   "execution_count": 5,
   "metadata": {},
   "outputs": [
    {
     "data": {
      "text/plain": [
       "dict_keys(['step', 'pose_learner', 'gaussian', 'pose_optimizer', 'pose_scheduler'])"
      ]
     },
     "execution_count": 5,
     "metadata": {},
     "output_type": "execute_result"
    }
   ],
   "source": [
    "dbarf500.keys()"
   ]
  },
  {
   "cell_type": "code",
   "execution_count": null,
   "metadata": {},
   "outputs": [],
   "source": [
    "\n",
    "attn = attn > 0"
   ]
  },
  {
   "cell_type": "code",
   "execution_count": null,
   "metadata": {},
   "outputs": [],
   "source": [
    "import matplotlib.pyplot as plt\n",
    "fig,a =  plt.subplots(h,w)\n",
    "for i, per_img_masks in enumerate(attn):\n",
    "    for j, per_mask in enumerate(per_img_masks):\n",
    "        norm_mask = per_mask / np.linalg.norm(per_mask)\n",
    "        a[i][j].set_axis_off()\n",
    "        a[i][j].imshow(norm_mask)\n",
    "plt.axis(\"off\")\n",
    "plt.savefig('out/feat_attn.pdf', bbox_inches='tight')"
   ]
  },
  {
   "cell_type": "code",
   "execution_count": null,
   "metadata": {},
   "outputs": [],
   "source": [
    "import torch\n",
    "import numpy as np\n",
    "feat_2d = torch.from_numpy(np.load(\"out/feat_2d.npy\")).to(\"cuda:1\")\n",
    "roi = feat_2d[250:252, 190:192, 32:]\n",
    "\n",
    "keys = out / out.norm(dim=0, keepdim=True)\n",
    "queries = roi / roi.norm(dim=1, keepdim=True)\n",
    "attn = queries @ keys.reshape(keys.shape[0], -1)\n",
    "h, w = attn.shape[:2]\n",
    "attn = attn.reshape(h, w, 192, 252).to('cpu').detach().numpy()\n"
   ]
  },
  {
   "cell_type": "code",
   "execution_count": null,
   "metadata": {},
   "outputs": [],
   "source": [
    "import torch\n",
    "\n",
    "# 定义 query 和 key tensor\n",
    "query = torch.randn(1, 13, 17, 256)\n",
    "key = torch.randn(1, 100, 200, 256)\n",
    "\n",
    "# 将 query 和 key 分别转换为形状为 (1, 256, 13, 17) 和 (1, 256, 100, 200) 的 tensor\n",
    "query = query.permute(0, 3, 1, 2)\n",
    "key = key.permute(0, 3, 1, 2)\n",
    "\n",
    "# 使用 2D 卷积计算 correlation map\n",
    "corr_map = torch.nn.functional.conv2d(key, query, stride=1)\n",
    "\n",
    "# 转换 correlation map 的形状为 (1, 13, 17, 100, 200)\n",
    "corr_map = corr_map.permute(0, 2, 3, 1)\n"
   ]
  },
  {
   "cell_type": "code",
   "execution_count": null,
   "metadata": {},
   "outputs": [],
   "source": [
    "norm_mask = attn[6][6] # / np.linalg.norm(attn[1][5])\n",
    "np.min(norm_mask)\n",
    "# norm_mask = norm_mask > 0.9\n",
    "plt.imshow(norm_mask)\n",
    "plt.colorbar()"
   ]
  },
  {
   "cell_type": "code",
   "execution_count": null,
   "metadata": {},
   "outputs": [],
   "source": [
    "keys.unique()"
   ]
  },
  {
   "cell_type": "code",
   "execution_count": null,
   "metadata": {},
   "outputs": [],
   "source": [
    "np.unique(attn)"
   ]
  },
  {
   "cell_type": "code",
   "execution_count": null,
   "metadata": {},
   "outputs": [],
   "source": [
    "import matplotlib.pyplot as plt\n",
    "from mpl_toolkits.mplot3d import Axes3D\n",
    "fig = plt.figure()\n",
    "ax = fig.add_subplot(111, projection='3d')\n",
    "ax.set_xlabel('X')\n",
    "ax.set_ylabel('Y')\n",
    "ax.set_zlabel('Z')\n",
    "for pose in all_poses:\n",
    "    # 姿态的位置信息\n",
    "    position = pose[:3, 3]\n",
    "    x, y, z = position\n",
    "\n",
    "    # 姿态的旋转信息\n",
    "    rotation = pose[:3, :3]\n",
    "\n",
    "    # 绘制位置\n",
    "    ax.scatter(x, y, z, c='r', marker='o')\n",
    "\n",
    "    # 绘制方向箭头\n",
    "    arrow_length = 0.1\n",
    "    ax.quiver(x, y, z, rotation[0, 0], rotation[1, 0], rotation[2, 0], length=arrow_length, color='r')\n",
    "    ax.quiver(x, y, z, rotation[0, 1], rotation[1, 1], rotation[2, 1], length=arrow_length, color='g')\n",
    "    ax.quiver(x, y, z, rotation[0, 2], rotation[1, 2], rotation[2, 2], length=arrow_length, color='b')\n",
    "\n",
    "\n",
    "# # 设置坐标轴范围\n",
    "# ax.set_xlim([xmin, xmax])\n",
    "# ax.set_ylim([ymin, ymax])\n",
    "# ax.set_zlim([zmin, zmax])\n",
    "\n",
    "# 显示图形\n",
    "plt.show()\n",
    "\n"
   ]
  },
  {
   "cell_type": "code",
   "execution_count": null,
   "metadata": {},
   "outputs": [],
   "source": [
    "import numpy as np\n",
    "np.save(\"outputs/depth_room.npy\", depth.cpu().detach().numpy())"
   ]
  },
  {
   "cell_type": "code",
   "execution_count": null,
   "metadata": {},
   "outputs": [],
   "source": [
    "import numpy as np \n",
    "import matplotlib.pyplot as plt\n",
    "predicted_labels = np.load(\"out/predicted_labels.npy\")\n",
    "true_labels = np.load(\"out/true_labels.npy\")\n",
    "\n",
    "plt.imshow(true_labels)\n",
    "plt.show()\n",
    "plt.imshow(predicted_labels)\n",
    "plt.show()\n"
   ]
  },
  {
   "cell_type": "code",
   "execution_count": null,
   "metadata": {},
   "outputs": [],
   "source": [
    "from sklearn.decomposition import PCA\n",
    "import numpy as np\n",
    "import matplotlib.pyplot as plt\n",
    "import torch\n",
    "def calc_pca(emb, vis=False):\n",
    "    X = emb.flatten(0, -2).cpu().numpy()\n",
    "    np.random.seed(80)\n",
    "    pca = PCA(n_components=3)\n",
    "    pca.fit(X)\n",
    "    X_rgb = pca.transform(X).reshape(*emb.shape[:2], 3)\n",
    "    if vis:\n",
    "        plt.imshow(X_rgb)\n",
    "        plt.axis(\"off\")\n",
    "        plt.show()\n",
    "    return X_rgb\n",
    "\n",
    "agg_feat_2d = np.load(\"out/agg_feat_2d.npy\")\n",
    "agg_feat_2d = torch.from_numpy(agg_feat_2d)\n",
    "calc_pca(agg_feat_2d, vis=True)\n",
    "\n",
    "cnn_feat_2d = np.load(\"out/cnn_feat_2d.npy\")\n",
    "cnn_feat_2d = torch.from_numpy(cnn_feat_2d).permute(1,2,0)\n",
    "calc_pca(cnn_feat_2d, vis=True)"
   ]
  },
  {
   "cell_type": "code",
   "execution_count": null,
   "metadata": {},
   "outputs": [],
   "source": [
    "agg_feat_2d = np.load(\"out/sems.npy\")[0]\n",
    "agg_feat_2d = torch.from_numpy(agg_feat_2d)\n",
    "calc_pca(agg_feat_2d, vis=True)\n",
    "\n",
    "cnn_feat_2d = np.load(\"/home/hao/lihao/GNT/out/sems.npy\")[0]\n",
    "cnn_feat_2d = torch.from_numpy(cnn_feat_2d)\n",
    "calc_pca(cnn_feat_2d, vis=True)\n",
    "\n",
    "import torch.nn.functional as F\n",
    "print(F.cosine_similarity(cnn_feat_2d, agg_feat_2d))"
   ]
  }
 ],
 "metadata": {
  "interpreter": {
   "hash": "12d1242183953434bfa651f2244a0a5f7c91fd7c525db292ea020937d7e26c26"
  },
  "kernelspec": {
   "display_name": "Python 3.10.13 64-bit ('splat': conda)",
   "name": "python3"
  },
  "language_info": {
   "codemirror_mode": {
    "name": "ipython",
    "version": 3
   },
   "file_extension": ".py",
   "mimetype": "text/x-python",
   "name": "python",
   "nbconvert_exporter": "python",
   "pygments_lexer": "ipython3",
   "version": "3.10.13"
  },
  "orig_nbformat": 4
 },
 "nbformat": 4,
 "nbformat_minor": 2
}
